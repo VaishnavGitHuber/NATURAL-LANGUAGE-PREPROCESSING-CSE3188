{
  "nbformat": 4,
  "nbformat_minor": 0,
  "metadata": {
    "colab": {
      "provenance": []
    },
    "kernelspec": {
      "name": "python3",
      "display_name": "Python 3"
    },
    "language_info": {
      "name": "python"
    }
  },
  "cells": [
    {
      "cell_type": "markdown",
      "source": [
        "#### LABSHEET04\n",
        "##### AUTHOR: VAISHNAV KRISHNA P\n",
        "##### TOPICS:\n",
        "- Load the word to vec model **glove-wiki-gigaword-300**\n"
      ],
      "metadata": {
        "id": "pfe5Gx5a3kKY"
      }
    },
    {
      "cell_type": "code",
      "execution_count": 44,
      "metadata": {
        "id": "phup2MBA26bH"
      },
      "outputs": [],
      "source": [
        "import gensim\n",
        "from gensim import downloader"
      ]
    },
    {
      "cell_type": "markdown",
      "source": [
        "#### Load the model"
      ],
      "metadata": {
        "id": "8e6BQyH15k8f"
      }
    },
    {
      "cell_type": "code",
      "source": [
        "model_name = 'glove-wiki-gigaword-300' # Word embedding model\n",
        "model = downloader.load(model_name)"
      ],
      "metadata": {
        "id": "ivYELiXx3Tc8"
      },
      "execution_count": 9,
      "outputs": []
    },
    {
      "cell_type": "code",
      "source": [
        "print(model['king']) # each word is represented with 300 vectors"
      ],
      "metadata": {
        "id": "rEOLlYks3hUa",
        "colab": {
          "base_uri": "https://localhost:8080/"
        },
        "outputId": "3edfcfe4-47f5-4ca9-e95a-7f1370ed2bd7"
      },
      "execution_count": 45,
      "outputs": [
        {
          "output_type": "stream",
          "name": "stdout",
          "text": [
            "[ 0.0033901 -0.34614    0.28144    0.48382    0.59469    0.012965\n",
            "  0.53982    0.48233    0.21463   -1.0249    -0.34788   -0.79001\n",
            " -0.15084    0.61374    0.042811   0.19323    0.25462    0.32528\n",
            "  0.05698    0.063253  -0.49439    0.47337   -0.16761    0.045594\n",
            "  0.30451   -0.35416   -0.34583   -0.20118    0.25511    0.091111\n",
            "  0.014651  -0.017541  -0.23854    0.48215   -0.9145    -0.36235\n",
            "  0.34736    0.028639  -0.027065  -0.036481  -0.067391  -0.23452\n",
            " -0.13772    0.33951    0.13415   -0.1342     0.47856   -0.1842\n",
            "  0.10705   -0.45834   -0.36085   -0.22595    0.32881   -0.13643\n",
            "  0.23128    0.34269    0.42344    0.47057    0.479      0.074639\n",
            "  0.3344     0.10714   -0.13289    0.58734    0.38616   -0.52238\n",
            " -0.22028   -0.072322   0.32269    0.44226   -0.037382   0.18324\n",
            "  0.058082   0.26938    0.36202    0.13983    0.016815  -0.34426\n",
            "  0.4827     0.2108     0.75618   -0.13092   -0.025741   0.43391\n",
            "  0.33893   -0.16438    0.26817    0.68774    0.311     -0.2509\n",
            "  0.0027749 -0.39809   -0.43399    0.049531  -0.42686   -0.094679\n",
            "  0.56925    0.28742   -0.015721  -0.059162   0.1912    -0.59814\n",
            "  0.65486   -0.31363    0.16881    0.10862    0.075316   0.34093\n",
            " -0.14706    0.8359     0.39697    0.52358   -0.0096367 -0.14406\n",
            "  0.37783   -0.596     -0.063192  -0.85297   -0.3098    -1.0587\n",
            " -1.025      0.4508    -0.73324   -1.2461    -0.028488   0.20299\n",
            "  0.00259    0.31995    0.35744    0.28533    0.228      0.50956\n",
            " -0.35942    0.32683    0.046264  -0.86896   -0.2707    -0.15454\n",
            " -0.32152    0.31121    0.44134    0.85189    0.21065   -0.13741\n",
            " -0.15359   -0.059722   0.027375   0.23724   -0.39197   -0.66065\n",
            "  0.23587    0.032384  -0.64043    0.55004    0.29597    0.14989\n",
            "  0.46079   -0.26561   -0.1607    -0.36328    1.0782     0.31375\n",
            "  0.1149     0.20248    0.032748   0.41082   -0.082536   0.36606\n",
            "  0.18771    0.75415    0.079648   0.24181   -0.60319   -0.37296\n",
            " -0.047767   0.45008   -0.21135    0.022251  -0.084325   0.18644\n",
            " -0.14682    0.56571   -0.30995    0.17423   -0.41122   -0.84772\n",
            " -0.71114    0.69895   -0.13008   -0.34195   -0.30501   -0.12646\n",
            "  0.29957   -0.43488    0.31935    0.2817    -0.20631   -0.48877\n",
            "  0.34477    0.03907    1.6198    -0.6352    -0.0037675 -0.41271\n",
            "  0.30704   -0.50486    0.036385  -0.046386  -0.12004    0.010029\n",
            " -0.49116    0.041486   0.002979  -0.57694   -0.42088   -0.063218\n",
            "  0.0034244 -0.25093   -0.39689   -0.36984    0.32689    0.01385\n",
            "  0.23634   -0.055199  -0.58453    0.13211    0.50943    0.25198\n",
            " -0.0088309 -0.21273   -0.48423    0.5234    -0.32832   -0.013821\n",
            "  0.15812    0.46696    0.036822  -0.090878   0.18854    0.20794\n",
            " -0.42682    0.59705    0.53109    0.19185   -0.16392    0.064956\n",
            " -0.36009   -0.59882   -0.28134    0.1017     0.02601    0.44298\n",
            " -0.31922   -0.22432    0.7828     0.041307   0.1742     0.27777\n",
            "  0.43792   -0.84324    0.27012   -0.21547    0.52408   -0.19426\n",
            " -0.21878   -0.20713    0.092994  -0.15804    0.28716   -0.11911\n",
            " -0.20688   -0.36482    0.68548   -0.10394   -0.49974   -0.47038\n",
            " -1.2953    -0.46236    0.44467    0.13337    0.88762   -0.26494\n",
            "  0.080676  -0.20625   -0.51232    0.31112    0.062035   0.30302\n",
            " -0.33344   -0.20924   -0.17348   -0.43434   -0.45743   -0.077803\n",
            " -0.33248   -0.078633   0.82182    0.082088  -0.68795    0.30266  ]\n"
          ]
        }
      ]
    },
    {
      "cell_type": "code",
      "source": [
        "model.most_similar(\"king\", topn=5) # Most similar word to the king"
      ],
      "metadata": {
        "id": "QAeuQXne4Umv",
        "colab": {
          "base_uri": "https://localhost:8080/"
        },
        "outputId": "936727a0-15ce-488e-df56-dc6b0afc7e4b"
      },
      "execution_count": 92,
      "outputs": [
        {
          "output_type": "execute_result",
          "data": {
            "text/plain": [
              "[('queen', 0.6336469054222107),\n",
              " ('prince', 0.6196622848510742),\n",
              " ('monarch', 0.5899620652198792),\n",
              " ('kingdom', 0.5791266560554504),\n",
              " ('throne', 0.5606487989425659)]"
            ]
          },
          "metadata": {},
          "execution_count": 92
        }
      ]
    },
    {
      "cell_type": "code",
      "source": [
        "model.similarity(\"man\", \"women\") # find the cosine similarity between the words"
      ],
      "metadata": {
        "colab": {
          "base_uri": "https://localhost:8080/"
        },
        "id": "_WYQMd7E6CPI",
        "outputId": "96e51900-5c7d-436f-fd96-b4e577c74e45"
      },
      "execution_count": 47,
      "outputs": [
        {
          "output_type": "execute_result",
          "data": {
            "text/plain": [
              "0.32945248"
            ]
          },
          "metadata": {},
          "execution_count": 47
        }
      ]
    },
    {
      "cell_type": "code",
      "source": [
        "# function : compute analogy that satifies\n",
        "# D = C + B - A\n",
        "def compute_analogy(wordA, wordB, wordC):\n",
        "    return model.most_similar(positive=[wordA, wordB], negative=[wordC], topn = 5)"
      ],
      "metadata": {
        "id": "x7tZQ9826bbE"
      },
      "execution_count": 48,
      "outputs": []
    },
    {
      "cell_type": "code",
      "source": [
        "compute_analogy('man','woman','men')"
      ],
      "metadata": {
        "colab": {
          "base_uri": "https://localhost:8080/"
        },
        "id": "pVBVzrcN70GD",
        "outputId": "82493e39-072f-48ae-9fb6-cb5764acf020"
      },
      "execution_count": 49,
      "outputs": [
        {
          "output_type": "execute_result",
          "data": {
            "text/plain": [
              "[('girl', 0.6255172491073608),\n",
              " ('mother', 0.606977641582489),\n",
              " ('person', 0.5853801369667053),\n",
              " ('boy', 0.570234477519989),\n",
              " ('herself', 0.5201686024665833)]"
            ]
          },
          "metadata": {},
          "execution_count": 49
        }
      ]
    },
    {
      "cell_type": "code",
      "source": [
        "from sklearn.metrics.pairwise import cosine_similarity\n",
        "# Create a function to solve the multiple choice questions\n",
        "def completeMCQAnalogy(wordA, wordB, wordC, options):\n",
        "  # find the vector X, ie, D = C + B - A\n",
        "  vectorX = model[wordC] + model[wordB] - model[wordA]\n",
        "  best_option = options[0]\n",
        "  best_similarity = cosine_similarity(vectorX.reshape(1,-1), model[options[0]].reshape(1,-1) )\n",
        "\n",
        "  # find the best options\n",
        "  for i in range(1,len(options)):\n",
        "    similarity = cosine_similarity(vectorX.reshape(1,-1), model[options[i]].reshape(1,-1) )\n",
        "\n",
        "    if similarity > best_similarity:\n",
        "      best_similarity = similarity\n",
        "      best_option = options[i]\n",
        "\n",
        "  return best_option"
      ],
      "metadata": {
        "id": "7RdytXyx76Va"
      },
      "execution_count": 90,
      "outputs": []
    },
    {
      "cell_type": "code",
      "source": [
        "completeMCQAnalogy('insect','disease','war',['arsenal','defeat','army','destruction','trench'])"
      ],
      "metadata": {
        "colab": {
          "base_uri": "https://localhost:8080/",
          "height": 56
        },
        "id": "dVuWtwc9-W_H",
        "outputId": "d2282726-1614-4433-ddf7-a5687dcc5380"
      },
      "execution_count": 91,
      "outputs": [
        {
          "output_type": "execute_result",
          "data": {
            "text/plain": [
              "'army'"
            ],
            "application/vnd.google.colaboratory.intrinsic+json": {
              "type": "string"
            }
          },
          "metadata": {},
          "execution_count": 91
        }
      ]
    }
  ]
}