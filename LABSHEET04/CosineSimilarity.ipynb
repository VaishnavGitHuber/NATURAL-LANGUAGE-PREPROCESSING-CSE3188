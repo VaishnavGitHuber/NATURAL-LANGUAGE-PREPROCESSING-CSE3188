{
  "nbformat": 4,
  "nbformat_minor": 0,
  "metadata": {
    "colab": {
      "provenance": []
    },
    "kernelspec": {
      "name": "python3",
      "display_name": "Python 3"
    },
    "language_info": {
      "name": "python"
    }
  },
  "cells": [
    {
      "cell_type": "code",
      "execution_count": 7,
      "metadata": {
        "id": "wQeSGieMxhss"
      },
      "outputs": [],
      "source": [
        "import numpy as np\n",
        "import math\n",
        "from sklearn.metrics.pairwise import cosine_similarity"
      ]
    },
    {
      "cell_type": "code",
      "source": [
        "vec1 = (1,0,1)\n",
        "vec2 = (1,1,1)\n",
        "\n",
        "# cosine similarity\n",
        "cosine_similarity([vec1], [vec2])"
      ],
      "metadata": {
        "colab": {
          "base_uri": "https://localhost:8080/"
        },
        "id": "dhjzBGVTxo7F",
        "outputId": "ab8e0fc7-6fb8-4337-e01b-229b46973f9b"
      },
      "execution_count": 4,
      "outputs": [
        {
          "output_type": "execute_result",
          "data": {
            "text/plain": [
              "array([[0.81649658]])"
            ]
          },
          "metadata": {},
          "execution_count": 4
        }
      ]
    },
    {
      "cell_type": "code",
      "source": [
        "# function: to find the word similarity\n",
        "'''\n",
        "                   V . W\n",
        "cos(v,w) = ---------------------\n",
        "                 |V| . |W|\n",
        "'''\n",
        "def cos_similarity(vec1, vec2):\n",
        "  return (np.dot(vec1, vec2) / (math.sqrt(np.dot(vec1, vec1)) * math.sqrt(np.dot(vec2, vec2))))"
      ],
      "metadata": {
        "id": "TeSphpjYxwIg"
      },
      "execution_count": 13,
      "outputs": []
    },
    {
      "cell_type": "code",
      "source": [
        "cos_similarity(vec1, vec2)"
      ],
      "metadata": {
        "colab": {
          "base_uri": "https://localhost:8080/"
        },
        "id": "d2GE7e9myeVp",
        "outputId": "45d3efdd-276e-41d1-cc3e-4d0c2971ea07"
      },
      "execution_count": 14,
      "outputs": [
        {
          "output_type": "execute_result",
          "data": {
            "text/plain": [
              "0.8164965809277259"
            ]
          },
          "metadata": {},
          "execution_count": 14
        }
      ]
    }
  ]
}