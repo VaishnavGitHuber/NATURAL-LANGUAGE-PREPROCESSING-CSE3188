{
 "cells": [
  {
   "cell_type": "markdown",
   "id": "ae4ac597-fee8-4d29-8f79-ef88362a2d41",
   "metadata": {},
   "source": [
    "#### AUTHOR : VAISHNAV KRISHNA P\n",
    "### LABSHEET01 : FILE OPERATIONS \n",
    "### SUBJECT : Natural Language Preprocessing(NLP) CSE 3188"
   ]
  },
  {
   "cell_type": "code",
   "execution_count": 3,
   "id": "77417807-01ad-4d07-8017-58c341d5c9e3",
   "metadata": {},
   "outputs": [],
   "source": [
    "# Writing to the file \n",
    "def write_text_file(file_name, text):\n",
    "    try:\n",
    "        with open(file_name, \"w\") as file:\n",
    "            file.write(text)\n",
    "        print(f\"text has written to {file_name} suceesfully\")\n",
    "    except:\n",
    "        print(f\"{file_name} operation error\")"
   ]
  },
  {
   "cell_type": "code",
   "execution_count": 8,
   "id": "1b49b2ad-6a19-4e29-a3f3-7d256c3616f8",
   "metadata": {},
   "outputs": [],
   "source": [
    "# Analysing the text to get some informations like no of sentences, no of words, no of charectors \n",
    "def parse_text(file_name):\n",
    "    with open(file_name, 'r') as file:\n",
    "        lines = file.readlines()\n",
    "    no_sentences = len(lines)\n",
    "    no_words = sum([len(line.split())  for line in lines])\n",
    "    no_char = sum([len(line) for line in lines])\n",
    "    print(f\"No of sentences: {no_sentences}\")\n",
    "    print(f\"No of words: {no_words}\")\n",
    "    print(f\"No of charectors: {no_char}\")"
   ]
  },
  {
   "cell_type": "code",
   "execution_count": 10,
   "id": "3da6c637-eccb-4d20-a0d8-3dd47a34c460",
   "metadata": {},
   "outputs": [],
   "source": [
    "# Main Function\n",
    "def main():\n",
    "    file_name = 'sample.txt'\n",
    "    text = ''' Born and raised in a Muslim family in Rameswaram, Tamil Nadu, \n",
    "    he studied physics and aerospace engineering. He spent the next four decades as a scientist and science administrator,\n",
    "    mainly at the Defence Research and Development Organisation (DRDO) and Indian Space Research Organisation (ISRO) \n",
    "    and was intimately involved in India's civilian space programme and military missile development efforts.\n",
    "    He was known as the \"Missile Man of India\" for his work on the development of ballistic missile and \n",
    "    launch vehicle technology. He also played a pivotal organisational, technical, and political role in India's \n",
    "    Pokhran-II nuclear tests in 1998, the second test since the first nuclear test by India in 1974.\n",
    "    '''\n",
    "    write_text_file(file_name, text)\n",
    "    parse_text(file_name)"
   ]
  },
  {
   "cell_type": "code",
   "execution_count": 12,
   "id": "da264f81-f09f-4637-ac67-c5a16889e63e",
   "metadata": {},
   "outputs": [
    {
     "name": "stdout",
     "output_type": "stream",
     "text": [
      "text has written to sample.txt suceesfully\n",
      "No of sentences: 8\n",
      "No of words: 109\n",
      "No of charectors: 739\n"
     ]
    }
   ],
   "source": [
    "if '__main__' == __name__:\n",
    "    main()"
   ]
  }
 ],
 "metadata": {
  "kernelspec": {
   "display_name": "Python [conda env:base] *",
   "language": "python",
   "name": "conda-base-py"
  },
  "language_info": {
   "codemirror_mode": {
    "name": "ipython",
    "version": 3
   },
   "file_extension": ".py",
   "mimetype": "text/x-python",
   "name": "python",
   "nbconvert_exporter": "python",
   "pygments_lexer": "ipython3",
   "version": "3.12.7"
  }
 },
 "nbformat": 4,
 "nbformat_minor": 5
}
