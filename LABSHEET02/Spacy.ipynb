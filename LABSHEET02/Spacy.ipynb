{
  "nbformat": 4,
  "nbformat_minor": 0,
  "metadata": {
    "colab": {
      "provenance": []
    },
    "kernelspec": {
      "name": "python3",
      "display_name": "Python 3"
    },
    "language_info": {
      "name": "python"
    }
  },
  "cells": [
    {
      "cell_type": "code",
      "source": [
        "import spacy"
      ],
      "metadata": {
        "id": "1OXTfEdQtFC9"
      },
      "execution_count": 1,
      "outputs": []
    },
    {
      "cell_type": "code",
      "source": [
        "# blank function\n",
        "nlp = spacy.load('en_core_web_sm')"
      ],
      "metadata": {
        "id": "PVGYKEeItIQR"
      },
      "execution_count": 2,
      "outputs": []
    },
    {
      "cell_type": "code",
      "source": [
        "# text\n",
        "text = \"Running fast is fun, but he enjoys swimming more.\"\n",
        "docs = nlp(text)"
      ],
      "metadata": {
        "id": "f-AdzZ_JtTtF"
      },
      "execution_count": 3,
      "outputs": []
    },
    {
      "cell_type": "code",
      "source": [
        "for token in docs:\n",
        "  print(token.text, token.lemma_, token.pos_)"
      ],
      "metadata": {
        "colab": {
          "base_uri": "https://localhost:8080/"
        },
        "id": "cyNi-ioRtba9",
        "outputId": "8dd193e1-cde3-4f16-a68b-ecfe32012163"
      },
      "execution_count": 4,
      "outputs": [
        {
          "output_type": "stream",
          "name": "stdout",
          "text": [
            "Running run VERB\n",
            "fast fast ADV\n",
            "is be AUX\n",
            "fun fun ADJ\n",
            ", , PUNCT\n",
            "but but CCONJ\n",
            "he he PRON\n",
            "enjoys enjoy VERB\n",
            "swimming swim VERB\n",
            "more more ADV\n",
            ". . PUNCT\n"
          ]
        }
      ]
    }
  ]
}