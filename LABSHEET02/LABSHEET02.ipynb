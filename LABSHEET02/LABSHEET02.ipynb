{
 "cells": [
  {
   "cell_type": "markdown",
   "id": "1cf99e91-1cf6-49c9-9ca7-0edea03b4364",
   "metadata": {},
   "source": [
    "### Author: Vaishnav Krishna P \n",
    "#### LABSHEET 02: POS_TAG\n",
    "- the process of assigning grammatical categories like noun, verb, adjective, etc., to each word in a sentence\n",
    "#### SUBJECT : Natural Languge Preprocessing(NLP)"
   ]
  },
  {
   "cell_type": "code",
   "execution_count": 3,
   "id": "d86626a5-835b-4363-a6de-b5a31334ac88",
   "metadata": {},
   "outputs": [
    {
     "name": "stdout",
     "output_type": "stream",
     "text": [
      "Text is written on the sample.txt\n"
     ]
    }
   ],
   "source": [
    "# create a file with some text content \n",
    "file_name = 'sample.txt'\n",
    "text = '''\n",
    "Born and raised in a Muslim family in Rameswaram, Tamil Nadu, he studied physics and aerospace engineering. \n",
    "He spent the next four decades as a scientist and science administrator, mainly at the Defence Research and Development \n",
    "Organisation (DRDO) and Indian Space Research Organisation (ISRO) and was intimately involved in India's civilian \n",
    "space programme and military missile development efforts. He was known as the \"Missile Man of India\" for his work on \n",
    "the development of ballistic missile and launch vehicle technology. He also played a pivotal organisational, technical, \n",
    "and political role in India's Pokhran-II nuclear tests in 1998, the second test since the first nuclear test by India in 1974.\n",
    "'''\n",
    "try:\n",
    "    with open(file_name, 'w') as file:\n",
    "        file.write(text)\n",
    "    print(f\"Text is written on the {file_name}\")\n",
    "except:\n",
    "    print(\"File Writing: error\")"
   ]
  },
  {
   "cell_type": "code",
   "execution_count": 7,
   "id": "3216d999-3f2f-448b-a39c-6021ba902980",
   "metadata": {},
   "outputs": [
    {
     "name": "stdout",
     "output_type": "stream",
     "text": [
      "No of words: 109\n",
      "No of Sentences: 8\n",
      "No of Paragraph: 1\n"
     ]
    }
   ],
   "source": [
    "# Count of words, sentences, documents \n",
    "no_words = text.split(' ')\n",
    "no_sentences = text.split('\\n')\n",
    "no_paragraphs = text.split('\\t')\n",
    "print(f\"No of words: {len(no_words)}\")\n",
    "print(f\"No of Sentences: {len(no_sentences)}\")\n",
    "print(f\"No of Paragraph: {len(no_paragraphs)}\")"
   ]
  },
  {
   "cell_type": "markdown",
   "id": "4f098b70-c43a-4a83-877b-c8d984709f8e",
   "metadata": {},
   "source": [
    "### NLTK : WORDS, SENTENCE TOKENIZATION"
   ]
  },
  {
   "cell_type": "code",
   "execution_count": 11,
   "id": "3f2a104d-9501-4e42-b372-2fea6f20f92a",
   "metadata": {},
   "outputs": [],
   "source": [
    "# importing the necessory packages \n",
    "import nltk \n",
    "from nltk import download\n",
    "from nltk.tokenize import word_tokenize,sent_tokenize"
   ]
  },
  {
   "cell_type": "code",
   "execution_count": 18,
   "id": "9f0210a0-ea92-4da4-ac1d-2630c1ad852f",
   "metadata": {},
   "outputs": [
    {
     "name": "stdout",
     "output_type": "stream",
     "text": [
      "No of words: 127\n",
      "No of sentences: 4\n"
     ]
    }
   ],
   "source": [
    "# Count of words, sentences using the nltk libraries \n",
    "no_words = len(word_tokenize(text)) # <- list of words \n",
    "no_sentences = len(sent_tokenize(text))  # <- list of sentences \n",
    "print(f\"No of words: {no_words}\")\n",
    "print(f\"No of sentences: {no_sentences}\")"
   ]
  },
  {
   "cell_type": "markdown",
   "id": "c87e84d3-5959-41fd-aaf0-1d6e67db72c7",
   "metadata": {},
   "source": [
    "### POSTAG\n",
    "- the process of assigning grammatical categories like noun, verb, adjective, etc., to each word in a sentence"
   ]
  },
  {
   "cell_type": "code",
   "execution_count": 22,
   "id": "3308e2a1-2ecc-4b10-b39d-6069cbf521f4",
   "metadata": {},
   "outputs": [],
   "source": [
    "# importing the pos_tag from the nltk library\n",
    "from nltk import pos_tag"
   ]
  },
  {
   "cell_type": "code",
   "execution_count": 28,
   "id": "03339345-d8bc-42c0-b0a5-6c5d0c56eef6",
   "metadata": {},
   "outputs": [],
   "source": [
    "# pos_tag(word_tokenize(text)) # <- list of tuple of word,tag\n",
    "tagged_tokens = pos_tag(word_tokenize(text))"
   ]
  },
  {
   "cell_type": "code",
   "execution_count": 38,
   "id": "cd0be319-46ae-4e9d-97d2-86949fab29f3",
   "metadata": {},
   "outputs": [
    {
     "name": "stdout",
     "output_type": "stream",
     "text": [
      "Text: Born & Tag: NNP\tText: and & Tag: CC\tText: raised & Tag: VBN\tText: in & Tag: IN\tText: a & Tag: DT\tText: Muslim & Tag: NNP\tText: family & Tag: NN\tText: in & Tag: IN\tText: Rameswaram & Tag: NNP\tText: , & Tag: ,\tText: Tamil & Tag: NNP\tText: Nadu & Tag: NNP\tText: , & Tag: ,\tText: he & Tag: PRP\tText: studied & Tag: VBD\tText: physics & Tag: NNS\tText: and & Tag: CC\tText: aerospace & Tag: NN\tText: engineering & Tag: NN\tText: . & Tag: .\tText: He & Tag: PRP\tText: spent & Tag: VBD\tText: the & Tag: DT\tText: next & Tag: JJ\tText: four & Tag: CD\tText: decades & Tag: NNS\tText: as & Tag: IN\tText: a & Tag: DT\tText: scientist & Tag: NN\tText: and & Tag: CC\tText: science & Tag: NN\tText: administrator & Tag: NN\tText: , & Tag: ,\tText: mainly & Tag: RB\tText: at & Tag: IN\tText: the & Tag: DT\tText: Defence & Tag: NNP\tText: Research & Tag: NNP\tText: and & Tag: CC\tText: Development & Tag: NNP\tText: Organisation & Tag: NNP\tText: ( & Tag: (\tText: DRDO & Tag: NNP\tText: ) & Tag: )\tText: and & Tag: CC\tText: Indian & Tag: JJ\tText: Space & Tag: NNP\tText: Research & Tag: NNP\tText: Organisation & Tag: NNP\tText: ( & Tag: (\tText: ISRO & Tag: NNP\tText: ) & Tag: )\tText: and & Tag: CC\tText: was & Tag: VBD\tText: intimately & Tag: RB\tText: involved & Tag: VBN\tText: in & Tag: IN\tText: India & Tag: NNP\tText: 's & Tag: POS\tText: civilian & Tag: JJ\tText: space & Tag: NN\tText: programme & Tag: NN\tText: and & Tag: CC\tText: military & Tag: JJ\tText: missile & Tag: NN\tText: development & Tag: NN\tText: efforts & Tag: NNS\tText: . & Tag: .\tText: He & Tag: PRP\tText: was & Tag: VBD\tText: known & Tag: VBN\tText: as & Tag: IN\tText: the & Tag: DT\tText: `` & Tag: ``\tText: Missile & Tag: NNP\tText: Man & Tag: NN\tText: of & Tag: IN\tText: India & Tag: NNP\tText: '' & Tag: ''\tText: for & Tag: IN\tText: his & Tag: PRP$\tText: work & Tag: NN\tText: on & Tag: IN\tText: the & Tag: DT\tText: development & Tag: NN\tText: of & Tag: IN\tText: ballistic & Tag: JJ\tText: missile & Tag: NN\tText: and & Tag: CC\tText: launch & Tag: JJ\tText: vehicle & Tag: NN\tText: technology & Tag: NN\tText: . & Tag: .\tText: He & Tag: PRP\tText: also & Tag: RB\tText: played & Tag: VBD\tText: a & Tag: DT\tText: pivotal & Tag: JJ\tText: organisational & Tag: JJ\tText: , & Tag: ,\tText: technical & Tag: JJ\tText: , & Tag: ,\tText: and & Tag: CC\tText: political & Tag: JJ\tText: role & Tag: NN\tText: in & Tag: IN\tText: India & Tag: NNP\tText: 's & Tag: POS\tText: Pokhran-II & Tag: JJ\tText: nuclear & Tag: JJ\tText: tests & Tag: NNS\tText: in & Tag: IN\tText: 1998 & Tag: CD\tText: , & Tag: ,\tText: the & Tag: DT\tText: second & Tag: JJ\tText: test & Tag: NN\tText: since & Tag: IN\tText: the & Tag: DT\tText: first & Tag: JJ\tText: nuclear & Tag: JJ\tText: test & Tag: NN\tText: by & Tag: IN\tText: India & Tag: NNP\tText: in & Tag: IN\tText: 1974 & Tag: CD\tText: . & Tag: .\t"
     ]
    }
   ],
   "source": [
    "# printing \n",
    "for (text, tag) in tagged_tokens:\n",
    "    print(f\"Text: {text} & Tag: {tag}\", end = \"\\t\")"
   ]
  },
  {
   "cell_type": "markdown",
   "id": "a1d27f3e-3707-4399-8b2b-f112f33be2c9",
   "metadata": {},
   "source": [
    "#### NOTE :\n",
    "- CC coordinating conjunction \n",
    "- CD cardinal digit \n",
    "- DT determiner \n",
    "- EX existential there (like: “there is” … think of it like “there exists”) \n",
    "- FW foreign word \n",
    "- IN preposition/subordinating conjunction \n",
    "- JJ adjective – ‘big’ \n",
    "- JJR adjective, comparative – ‘bigger’ \n",
    "- JJS adjective, superlative – ‘biggest’ \n",
    "- LS list marker 1) \n",
    "- MD modal – could, will \n",
    "- NN noun, singular ‘- desk’ \n",
    "- NNS noun plural – ‘desks’ \n",
    "- NNP proper noun, singular – ‘Harrison’ \n",
    "- NNPS proper noun, plural – ‘Americans’ \n",
    "- PDT predeterminer – ‘all the kids’ \n",
    "- POS possessive ending parent’s \n",
    "- PRP personal pronoun –  I, he, she \n",
    "- PRP possessive pronoun – my, his, hers \n",
    "- RB adverb – very, silently, \n",
    "- RBR adverb, comparative – better \n",
    "- RBS adverb, superlative – best \n",
    "- RP particle – give up \n",
    "- TO – to go ‘to’ the store. \n",
    "- UH interjection – errrrrrrrm \n",
    "- VB verb, base form – take \n",
    "- VBD verb, past tense – took \n",
    "- VBG verb, gerund/present participle \n",
    "- VBN verb, past participle – taken\n",
    "- VBP verb, sing. present,\n",
    "- VBZ verb, 3rd person sing. \n",
    "- WDT wh-determiner – which \n",
    "- WP wh-pronoun – who, what \n",
    "- WP$ possessive wh-pronoun, eg- whose \n",
    "- WRB wh-adverb, eg- where, when"
   ]
  },
  {
   "cell_type": "code",
   "execution_count": null,
   "id": "75665132-df8b-428c-bab0-1ef046ae735c",
   "metadata": {},
   "outputs": [],
   "source": []
  }
 ],
 "metadata": {
  "kernelspec": {
   "display_name": "Python [conda env:base] *",
   "language": "python",
   "name": "conda-base-py"
  },
  "language_info": {
   "codemirror_mode": {
    "name": "ipython",
    "version": 3
   },
   "file_extension": ".py",
   "mimetype": "text/x-python",
   "name": "python",
   "nbconvert_exporter": "python",
   "pygments_lexer": "ipython3",
   "version": "3.12.7"
  }
 },
 "nbformat": 4,
 "nbformat_minor": 5
}
